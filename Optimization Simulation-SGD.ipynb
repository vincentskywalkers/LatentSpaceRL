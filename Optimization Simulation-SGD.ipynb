{
 "cells": [
  {
   "cell_type": "code",
   "execution_count": 5,
   "metadata": {},
   "outputs": [
    {
     "data": {
      "text/plain": [
       "{'divide': 'raise', 'over': 'raise', 'under': 'raise', 'invalid': 'raise'}"
      ]
     },
     "execution_count": 5,
     "metadata": {},
     "output_type": "execute_result"
    }
   ],
   "source": [
    "import time\n",
    "import itertools\n",
    "import numpy as np\n",
    "from collections import defaultdict, Counter\n",
    "import matplotlib.pyplot as plt\n",
    "from tqdm import tqdm\n",
    "from multiprocessing import Pool\n",
    "\n",
    "from simulation import simulation\n",
    "from simulation_plots import *\n",
    "np.seterr(all='raise')  \n"
   ]
  },
  {
   "cell_type": "code",
   "execution_count": 14,
   "metadata": {},
   "outputs": [
    {
     "data": {
      "image/png": "[encoded data removed]",
      "text/plain": [
       "<Figure size 720x216 with 2 Axes>"
      ]
     },
     "metadata": {
      "needs_background": "light"
     },
     "output_type": "display_data"
    }
   ],
   "source": [
    "def smooth_clip(x, a=-500, b=500, c=0.01):\n",
    "    results = []\n",
    "    for xi in x:\n",
    "        try:\n",
    "            results.append(xi - 1/c * np.log(1 + np.exp(c * (xi - b))) + 1/c * np.log(1 + np.exp(-c* (xi - a))))\n",
    "        except:\n",
    "            if xi > b:\n",
    "                results.append(b)\n",
    "            if xi < a:\n",
    "                results.append(a)\n",
    "    return np.array(results)\n",
    "\n",
    "    \n",
    "fig, axs = plt.subplots(1, 2, figsize = (10, 3))\n",
    "\n",
    "x = np.linspace(-1000, 1000, num=100000)\n",
    "axs[0].plot(x, np.clip(x, -500, 500))\n",
    "axs[0].plot(x, smooth_clip(x, -500, 500, 0.01))\n",
    "\n",
    "x = np.array(np.linspace(-1000000, 1000000, num=1000000))\n",
    "axs[1].plot(x, np.clip(x, -500, 500))\n",
    "axs[1].plot(x, smooth_clip(x, -500, 500, 0.01))\n",
    "\n",
    "plt.show()"
   ]
  },
  {
   "cell_type": "code",
   "execution_count": 15,
   "metadata": {},
   "outputs": [],
   "source": [
    "def objective_function(beta, X, y, rewards, propensity_scores, l = 0.1, S = 1, use_smooth_clip = False, \n",
    "                       correct_min_count = None, miss_min = None, intercept = False, pelnalty_norm = False):\n",
    "#     clip_func = smooth_clip if use_smooth_clip else lambda x: np.clip(x, -500, 500)\n",
    "\n",
    "    clip_func = smooth_clip if use_smooth_clip else lambda x: x\n",
    "    all_loss = 0\n",
    "    for pid, covariates in X.items():\n",
    "        assignments = np.array(y[pid])\n",
    "        reward = rewards[pid]\n",
    "        if intercept:\n",
    "            func_outputs =  np.array([np.matmul(beta, np.hstack([1, var])) for var in covariates]) \n",
    "        else:\n",
    "            func_outputs =  np.array([np.matmul(beta, var) for var in covariates])\n",
    "                    \n",
    "        pscore = propensity_scores[pid]\n",
    "        asy_min = -np.log(np.sum(np.exp(clip_func(-func_outputs * assignments) * S))) / S\n",
    "        pid_loss = -(reward * -np.log(1 + np.exp(clip_func(-np.array([asy_min])))) / pscore)\n",
    "        all_loss = pid_loss + all_loss\n",
    "        \n",
    "        if correct_min_count is not None and miss_min is not None:\n",
    "            if np.all(np.abs(func_outputs * assignments - asy_min) >= np.abs(min(func_outputs * assignments) - asy_min)):\n",
    "                correct_min_count[1] += 1\n",
    "            miss_min.append(func_outputs * assignments)\n",
    "            correct_min_count[0] += 1\n",
    "\n",
    "    if pelnalty_norm:\n",
    "        all_loss = 1 / len(X) * all_loss + l * (np.sum(beta**2) - 1)\n",
    "    else:\n",
    "        all_loss = 1 / len(X) * all_loss + l * np.sum(beta**2)\n",
    "    return all_loss"
   ]
  },
  {
   "cell_type": "code",
   "execution_count": 16,
   "metadata": {},
   "outputs": [
    {
     "name": "stdout",
     "output_type": "stream",
     "text": [
      "Optimal Betas:   [ 0.4  -0.32 -0.71]\n",
      "Initialized x0:    [ 0.4555312 -0.3401674 -0.6120413]\n"
     ]
    }
   ],
   "source": [
    "optimal_decision_rule = lambda x, pid=None, idx=None: 0.5 + 0.4 * x[0] - 0.32 * x[1] - 0.71 * x[2]\n",
    "Q0 = lambda x, o, a: 1 + 2 * x[0] + x[1] + 0.5 * x[2] + o*a\n",
    "VF = lambda x_dict, x_dict_scaled, assignment_rule: \\\n",
    "    np.mean([np.sum([Q0(x_dict[pid][idx], \n",
    "                        np.sign(optimal_decision_rule(x_dict[pid][idx])), \n",
    "                        np.sign(assignment_rule(x_dict_scaled[pid][idx], pid, idx)))\n",
    "                     for idx in range(x_dict[pid].shape[0])]) for pid in x_dict])\n",
    "\n",
    "optimal_betas = np.array([0.4, -0.32, -0.71])\n",
    "\n",
    "x0 = np.array(optimal_betas) + np.random.normal(0, 0.05, 3)\n",
    "print('Optimal Betas:  ', optimal_betas)\n",
    "print(\"Initialized x0:   \", x0)\n",
    "##########"
   ]
  },
  {
   "cell_type": "markdown",
   "metadata": {},
   "source": [
    "### Uniform Distribution"
   ]
  },
  {
   "cell_type": "code",
   "execution_count": 19,
   "metadata": {},
   "outputs": [],
   "source": [
    "def x_distr(*x, size=1):\n",
    "    return np.random.uniform(*x, size=size)"
   ]
  },
  {
   "cell_type": "markdown",
   "metadata": {},
   "source": [
    "#### Unif(-1, 1)"
   ]
  },
  {
   "cell_type": "code",
   "execution_count": 23,
   "metadata": {},
   "outputs": [],
   "source": [
    "sim = simulation(optimal_decision_rule, Q0, VF, objective_function, x_distr, balanced = True, n=1000)\n",
    "sim.generate_data(-1, 1)"
   ]
  },
  {
   "cell_type": "code",
   "execution_count": 25,
   "metadata": {},
   "outputs": [
    {
     "ename": "ModuleNotFoundError",
     "evalue": "No module named 'torch'",
     "output_type": "error",
     "traceback": [
      "\u001b[0;31m---------------------------------------------------------------------------\u001b[0m",
      "\u001b[0;31mModuleNotFoundError\u001b[0m                       Traceback (most recent call last)",
      "\u001b[0;32m<ipython-input-25-23ae742e6f8b>\u001b[0m in \u001b[0;36m<module>\u001b[0;34m\u001b[0m\n\u001b[0;32m----> 1\u001b[0;31m \u001b[0;32mimport\u001b[0m \u001b[0mtorch\u001b[0m\u001b[0;34m\u001b[0m\u001b[0;34m\u001b[0m\u001b[0m\n\u001b[0m\u001b[1;32m      2\u001b[0m \u001b[0;32mfrom\u001b[0m \u001b[0mtorch\u001b[0m \u001b[0;32mimport\u001b[0m \u001b[0moptim\u001b[0m\u001b[0;34m\u001b[0m\u001b[0;34m\u001b[0m\u001b[0m\n\u001b[1;32m      3\u001b[0m \u001b[0;32mfrom\u001b[0m \u001b[0mtorch\u001b[0m\u001b[0;34m.\u001b[0m\u001b[0mautograd\u001b[0m \u001b[0;32mimport\u001b[0m \u001b[0mVariable\u001b[0m\u001b[0;34m\u001b[0m\u001b[0;34m\u001b[0m\u001b[0m\n",
      "\u001b[0;31mModuleNotFoundError\u001b[0m: No module named 'torch'"
     ]
    }
   ],
   "source": [
    "import torch\n",
    "from torch import optim\n",
    "from torch.autograd import Variable "
   ]
  },
  {
   "cell_type": "code",
   "execution_count": 17,
   "metadata": {
    "scrolled": true
   },
   "outputs": [
    {
     "ename": "NameError",
     "evalue": "name 'Variable' is not defined",
     "output_type": "error",
     "traceback": [
      "\u001b[0;31m---------------------------------------------------------------------------\u001b[0m",
      "\u001b[0;31mNameError\u001b[0m                                 Traceback (most recent call last)",
      "\u001b[0;32m<ipython-input-17-c2c53cd9e672>\u001b[0m in \u001b[0;36m<module>\u001b[0;34m\u001b[0m\n\u001b[0;32m----> 1\u001b[0;31m \u001b[0mX\u001b[0m \u001b[0;34m=\u001b[0m \u001b[0mVariable\u001b[0m\u001b[0;34m(\u001b[0m\u001b[0mtorch\u001b[0m\u001b[0;34m.\u001b[0m\u001b[0mtensor\u001b[0m\u001b[0;34m(\u001b[0m\u001b[0mnp\u001b[0m\u001b[0;34m.\u001b[0m\u001b[0marray\u001b[0m\u001b[0;34m(\u001b[0m\u001b[0mlist\u001b[0m\u001b[0;34m(\u001b[0m\u001b[0msim\u001b[0m\u001b[0;34m.\u001b[0m\u001b[0mX_dict\u001b[0m\u001b[0;34m.\u001b[0m\u001b[0mvalues\u001b[0m\u001b[0;34m(\u001b[0m\u001b[0;34m)\u001b[0m\u001b[0;34m)\u001b[0m\u001b[0;34m)\u001b[0m\u001b[0;34m)\u001b[0m\u001b[0;34m,\u001b[0m \u001b[0mrequires_grad\u001b[0m\u001b[0;34m=\u001b[0m\u001b[0;32mFalse\u001b[0m\u001b[0;34m)\u001b[0m\u001b[0;34m\u001b[0m\u001b[0;34m\u001b[0m\u001b[0m\n\u001b[0m\u001b[1;32m      2\u001b[0m \u001b[0massignments\u001b[0m \u001b[0;34m=\u001b[0m \u001b[0mVariable\u001b[0m\u001b[0;34m(\u001b[0m\u001b[0mtorch\u001b[0m\u001b[0;34m.\u001b[0m\u001b[0mtensor\u001b[0m\u001b[0;34m(\u001b[0m\u001b[0mlist\u001b[0m\u001b[0;34m(\u001b[0m\u001b[0msim\u001b[0m\u001b[0;34m.\u001b[0m\u001b[0my_dict\u001b[0m\u001b[0;34m.\u001b[0m\u001b[0mvalues\u001b[0m\u001b[0;34m(\u001b[0m\u001b[0;34m)\u001b[0m\u001b[0;34m)\u001b[0m\u001b[0;34m)\u001b[0m\u001b[0;34m,\u001b[0m \u001b[0mrequires_grad\u001b[0m \u001b[0;34m=\u001b[0m \u001b[0;32mFalse\u001b[0m\u001b[0;34m)\u001b[0m\u001b[0;34m\u001b[0m\u001b[0;34m\u001b[0m\u001b[0m\n\u001b[1;32m      3\u001b[0m \u001b[0mrewards\u001b[0m \u001b[0;34m=\u001b[0m \u001b[0mVariable\u001b[0m\u001b[0;34m(\u001b[0m\u001b[0mtorch\u001b[0m\u001b[0;34m.\u001b[0m\u001b[0mtensor\u001b[0m\u001b[0;34m(\u001b[0m\u001b[0mlist\u001b[0m\u001b[0;34m(\u001b[0m\u001b[0msim\u001b[0m\u001b[0;34m.\u001b[0m\u001b[0mtotal_rewards_dict\u001b[0m\u001b[0;34m.\u001b[0m\u001b[0mvalues\u001b[0m\u001b[0;34m(\u001b[0m\u001b[0;34m)\u001b[0m\u001b[0;34m)\u001b[0m\u001b[0;34m)\u001b[0m\u001b[0;34m,\u001b[0m \u001b[0mrequires_grad\u001b[0m \u001b[0;34m=\u001b[0m \u001b[0;32mFalse\u001b[0m\u001b[0;34m)\u001b[0m\u001b[0;34m\u001b[0m\u001b[0;34m\u001b[0m\u001b[0m\n\u001b[1;32m      4\u001b[0m \u001b[0;34m\u001b[0m\u001b[0m\n\u001b[1;32m      5\u001b[0m \u001b[0mbeta\u001b[0m \u001b[0;34m=\u001b[0m \u001b[0mVariable\u001b[0m\u001b[0;34m(\u001b[0m\u001b[0mtorch\u001b[0m\u001b[0;34m.\u001b[0m\u001b[0mtensor\u001b[0m\u001b[0;34m(\u001b[0m\u001b[0;34m[\u001b[0m\u001b[0;36m0.4\u001b[0m\u001b[0;34m,\u001b[0m \u001b[0;34m-\u001b[0m\u001b[0;36m0.32\u001b[0m\u001b[0;34m,\u001b[0m \u001b[0;34m-\u001b[0m\u001b[0;36m0.71\u001b[0m\u001b[0;34m]\u001b[0m\u001b[0;34m)\u001b[0m\u001b[0;34m.\u001b[0m\u001b[0mtype\u001b[0m\u001b[0;34m(\u001b[0m\u001b[0mtorch\u001b[0m\u001b[0;34m.\u001b[0m\u001b[0mFloatTensor\u001b[0m\u001b[0;34m)\u001b[0m\u001b[0;34m,\u001b[0m \u001b[0mrequires_grad\u001b[0m \u001b[0;34m=\u001b[0m \u001b[0;32mTrue\u001b[0m\u001b[0;34m)\u001b[0m\u001b[0;34m\u001b[0m\u001b[0;34m\u001b[0m\u001b[0m\n",
      "\u001b[0;31mNameError\u001b[0m: name 'Variable' is not defined"
     ]
    }
   ],
   "source": [
    "X = Variable(torch.tensor(np.array(list(sim.X_dict.values()))), requires_grad=False)\n",
    "assignments = Variable(torch.tensor(list(sim.y_dict.values())), requires_grad = False)\n",
    "rewards = Variable(torch.tensor(list(sim.total_rewards_dict.values())), requires_grad = False)\n",
    "\n",
    "beta = Variable(torch.tensor([0.4, -0.32, -0.71]).type(torch.FloatTensor), requires_grad = True)\n",
    "beta.shape\n",
    "\n",
    "S = 0.1\n",
    "learning_rate = 1e-04\n",
    "optimizer = torch.optim.Adam([beta], lr=learning_rate)\n",
    "for t in range(500):\n",
    "    func_outputs = X.view(-1, 3).mv(beta.double()).view(-1, 4)\n",
    "    func_assign = torch.cat([i * z for i, z in zip(func_outputs, assignments)]).view(-1, 4)\n",
    "    asy_min = -torch.log(torch.sum(torch.exp(-func_assign * S), axis = 1)) / S\n",
    "    loss = torch.sum(-(rewards * -torch.log(1 + torch.exp(-asy_min))))\n",
    "    print(t, loss.data.item())\n",
    "    \n",
    "    loss.backward()\n",
    "    optimizer.step()\n",
    "    \n",
    "    beta.data -= learning_rate * beta.grad.data\n",
    "    beta.grad.data.zero_()\n",
    "    optimizer.zero_grad()"
   ]
  },
  {
   "cell_type": "code",
   "execution_count": null,
   "metadata": {},
   "outputs": [],
   "source": []
  },
  {
   "cell_type": "code",
   "execution_count": null,
   "metadata": {},
   "outputs": [],
   "source": []
  }
 ],
 "metadata": {
  "kernelspec": {
   "display_name": "Python 3",
   "language": "python",
   "name": "python3"
  },
  "language_info": {
   "codemirror_mode": {
    "name": "ipython",
    "version": 3
   },
   "file_extension": ".py",
   "mimetype": "text/x-python",
   "name": "python",
   "nbconvert_exporter": "python",
   "pygments_lexer": "ipython3",
   "version": "3.8.3"
  }
 },
 "nbformat": 4,
 "nbformat_minor": 4
}
